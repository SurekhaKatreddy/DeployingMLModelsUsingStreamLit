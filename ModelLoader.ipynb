{
 "cells": [
  {
   "cell_type": "code",
   "execution_count": 6,
   "id": "1e81dde8",
   "metadata": {},
   "outputs": [
    {
     "name": "stdout",
     "output_type": "stream",
     "text": [
      "6.657564942832165\n"
     ]
    }
   ],
   "source": [
    "import joblib\n",
    "import pandas as pd\n",
    "import numpy as np\n",
    "import pickle\n",
    "    \n",
    "    \n",
    "def ValuePredictor(to_predict_list):\n",
    "    #to_predict = np.array(to_predict_list).reshape(1,10)\n",
    "    loaded_model = pickle.load(open(\"model.pkl\",\"rb\"))\n",
    "    result = loaded_model.predict(to_predict_list)\n",
    "    return result[0]\n",
    "\n",
    "\n",
    "test = [\"Sweden\", \"Western Europe\", \n",
    "        0.03157, 1.33171, 1.33171, 1.28907, 0.91087, 0.43844, 0.36262, 2.37119]\n",
    "\n",
    "#build new data\n",
    "new_data = pd.DataFrame({'Country': ['Sweden','Slovakia'],\n",
    "                   'Region': ['Western Europe','Central and Eastern Europe'],\n",
    "                   'Standard Error': [0.03157,0.04267],\n",
    "                    'Economy (GDP per Capita)': [1.33171, 1.16891],      \n",
    "                    'Family':[1.33171, 1.16891],\n",
    "                    'Health (Life Expectancy)': [1.28907,1.26999],\n",
    "                    'Freedom': [0.91087,0.78902],\n",
    "                    'Trust (Government Corruption)':[0.43844,0.03431],\n",
    "                    'Generosity':[0.36262,0.36262],\n",
    "                    'Dystopia Residual': [2.37119,2.24639]})\n",
    "new_data\n",
    "print(ValuePredictor(new_data))"
   ]
  }
 ],
 "metadata": {
  "kernelspec": {
   "display_name": "Python 3 (ipykernel)",
   "language": "python",
   "name": "python3"
  },
  "language_info": {
   "codemirror_mode": {
    "name": "ipython",
    "version": 3
   },
   "file_extension": ".py",
   "mimetype": "text/x-python",
   "name": "python",
   "nbconvert_exporter": "python",
   "pygments_lexer": "ipython3",
   "version": "3.7.11"
  }
 },
 "nbformat": 4,
 "nbformat_minor": 5
}
